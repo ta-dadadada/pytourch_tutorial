{
 "cells": [
  {
   "cell_type": "markdown",
   "metadata": {},
   "source": [
    "https://pytorch.org/tutorials/beginner/blitz/neural_networks_tutorial.html#sphx-glr-beginner-blitz-neural-networks-tutorial-py"
   ]
  },
  {
   "cell_type": "code",
   "execution_count": 29,
   "metadata": {
    "ExecuteTime": {
     "end_time": "2019-01-21T14:38:48.418530Z",
     "start_time": "2019-01-21T14:38:48.406654Z"
    }
   },
   "outputs": [
    {
     "name": "stdout",
     "output_type": "stream",
     "text": [
      "Net(\n",
      "  (conv1): Conv2d(1, 6, kernel_size=(5, 5), stride=(1, 1))\n",
      "  (conv2): Conv2d(6, 16, kernel_size=(5, 5), stride=(1, 1))\n",
      "  (fc1): Linear(in_features=400, out_features=120, bias=True)\n",
      "  (fc2): Linear(in_features=120, out_features=84, bias=True)\n",
      "  (fc3): Linear(in_features=84, out_features=10, bias=True)\n",
      ")\n"
     ]
    }
   ],
   "source": [
    "import torch\n",
    "import torch.nn as nn\n",
    "import torch.nn.functional as F\n",
    "\n",
    "\n",
    "class Net(nn.Module):\n",
    "\n",
    "    def __init__(self):\n",
    "        super(Net, self).__init__()\n",
    "        # 1 input image channel, 6 output channels, 5x5 square convolution\n",
    "        # kernel\n",
    "        # チャネル数1の画像を入力とするとき、\n",
    "        # 6枚の畳込みフィルターを定義する。\n",
    "        # フィルタのサイズは5である。\n",
    "        # このとき、出力は\n",
    "        # チャネル数6チャネル=フィルタ数になる\n",
    "        # 画素数は、入力サイズがLならばL-(フィルタサイズ-1)=L-5+1=L-4になる\n",
    "        self.conv1 = nn.Conv2d(1, 6, 5)\n",
    "        # チャネル数6入力として、\n",
    "        # 16枚の畳込みフィルターを定義する。\n",
    "        # フィルタのサイズは5である。\n",
    "        # このとき、出力は\n",
    "        # 16チャネル=フィルタ数になる\n",
    "        # 画素数は、入力サイズがLならばL-(フィルタサイズ-1)=L-5+1=L-4になる\n",
    "        self.conv2 = nn.Conv2d(6, 16, 5)\n",
    "        # an affine operation: y = Wx + b\n",
    "        # 16*5*5 のうち、16は単にチャネル数を示す。\n",
    "        # 2つの5はそれぞれ実際の画素数を表す。\n",
    "        # fc1に対する入力サイズは、もとの画像サイズをL=32とすると、\n",
    "        # それぞれ2回の畳込とpoolingによって5*5になっているので、\n",
    "        # 総計して合計要素数は16*5*5となる。\n",
    "        # 120は出力数\n",
    "        self.fc1 = nn.Linear(16 * 5 * 5, 120)\n",
    "        # 入力数120, 出力数84\n",
    "        self.fc2 = nn.Linear(120, 84)\n",
    "        # 入力数84, 出力数10\n",
    "        self.fc3 = nn.Linear(84, 10)\n",
    "\n",
    "    def forward(self, x):\n",
    "        # Max pooling over a (2, 2) window\n",
    "        # (2,2) サイズのウィンドウで pooling する\n",
    "        # (L, L) -> (L/2, L/2) になる\n",
    "        # 入力のxがL=32と仮定すると、\n",
    "        # conv1 によって32 -> 32-4 = 28 になっているので、\n",
    "        # pooling で 28 -> 14 になる\n",
    "        x = F.max_pool2d(F.relu(self.conv1(x)), (2, 2))\n",
    "        # If the size is a square you can only specify a single number\n",
    "        # (2,2) サイズのwウィンドウで pooling する\n",
    "        # 画像サイズが正方形なら、\n",
    "        # (2,2) とタプルで指定せずに、単に 2 でよいということのようだ。\n",
    "        # 入力のxがL=14 と仮定すると、\n",
    "        # conv2 によって 14 -> 14-4 = 10 になっているので、\n",
    "        # pooling で 10 -> 10/2 になる\n",
    "        x = F.max_pool2d(F.relu(self.conv2(x)), 2)\n",
    "        # affine変換のために1次元配列化する\n",
    "        x = x.view(-1, self.num_flat_features(x))\n",
    "        # fc1でアフィン変換したあと活性化関数をかける\n",
    "        x = F.relu(self.fc1(x))\n",
    "        # fc2でアフィン変換したあと活性化関数をかける\n",
    "        x = F.relu(self.fc2(x))\n",
    "        # fc3でアフィン変換する\n",
    "        x = self.fc3(x)\n",
    "        return x\n",
    "\n",
    "    def num_flat_features(self, x):\n",
    "        size = x.size()[1:]  # all dimensions except the batch dimension\n",
    "        num_features = 1\n",
    "        for s in size:\n",
    "            num_features *= s\n",
    "        return num_features\n",
    "\n",
    "\n",
    "net = Net()\n",
    "print(net)"
   ]
  },
  {
   "cell_type": "code",
   "execution_count": 30,
   "metadata": {
    "ExecuteTime": {
     "end_time": "2019-01-21T14:38:48.812673Z",
     "start_time": "2019-01-21T14:38:48.802478Z"
    }
   },
   "outputs": [
    {
     "name": "stdout",
     "output_type": "stream",
     "text": [
      "10\n",
      "torch.Size([6, 1, 5, 5])\n"
     ]
    }
   ],
   "source": [
    "params = list(net.parameters())\n",
    "print(len(params))\n",
    "print(params[0].size())  # conv1's .weight"
   ]
  },
  {
   "cell_type": "code",
   "execution_count": 31,
   "metadata": {
    "ExecuteTime": {
     "end_time": "2019-01-21T14:38:49.075319Z",
     "start_time": "2019-01-21T14:38:49.057263Z"
    }
   },
   "outputs": [
    {
     "name": "stdout",
     "output_type": "stream",
     "text": [
      "tensor([[-0.0433, -0.0334, -0.0871,  0.0420, -0.0992, -0.0831,  0.0282,  0.1429,\n",
      "          0.0222, -0.0059]], grad_fn=<AddmmBackward>)\n"
     ]
    }
   ],
   "source": [
    "input = torch.randn(1, 1, 32, 32)\n",
    "out = net(input)\n",
    "print(out)"
   ]
  },
  {
   "cell_type": "code",
   "execution_count": 32,
   "metadata": {
    "ExecuteTime": {
     "end_time": "2019-01-21T14:38:49.250026Z",
     "start_time": "2019-01-21T14:38:49.240975Z"
    }
   },
   "outputs": [],
   "source": [
    "output = net(input)\n",
    "# ここでは教師データをダミーで作っておく\n",
    "target = torch.randn(10)  # a dummy target, for example\n",
    "target = target.view(1, -1)  # make it the same shape as output\n",
    "# Loss function として MSE(Mean Square Error: 二乗誤差）を使う\n",
    "criterion = nn.MSELoss()"
   ]
  },
  {
   "cell_type": "code",
   "execution_count": 33,
   "metadata": {
    "ExecuteTime": {
     "end_time": "2019-01-21T14:38:49.449109Z",
     "start_time": "2019-01-21T14:38:49.429348Z"
    }
   },
   "outputs": [],
   "source": [
    "import torch.optim as optim\n",
    "\n",
    "# create your optimizer\n",
    "optimizer = optim.SGD(net.parameters(), lr=0.01)\n",
    "\n",
    "# in your training loop:\n",
    "optimizer.zero_grad()   # zero the gradient buffers\n",
    "output = net(input)\n",
    "loss = criterion(output, target)\n",
    "loss.backward()\n",
    "optimizer.step()    # Does the update"
   ]
  }
 ],
 "metadata": {
  "kernelspec": {
   "display_name": "Python 3",
   "language": "python",
   "name": "python3"
  },
  "language_info": {
   "codemirror_mode": {
    "name": "ipython",
    "version": 3
   },
   "file_extension": ".py",
   "mimetype": "text/x-python",
   "name": "python",
   "nbconvert_exporter": "python",
   "pygments_lexer": "ipython3",
   "version": "3.7.2"
  },
  "varInspector": {
   "cols": {
    "lenName": 16,
    "lenType": 16,
    "lenVar": 40
   },
   "kernels_config": {
    "python": {
     "delete_cmd_postfix": "",
     "delete_cmd_prefix": "del ",
     "library": "var_list.py",
     "varRefreshCmd": "print(var_dic_list())"
    },
    "r": {
     "delete_cmd_postfix": ") ",
     "delete_cmd_prefix": "rm(",
     "library": "var_list.r",
     "varRefreshCmd": "cat(var_dic_list()) "
    }
   },
   "types_to_exclude": [
    "module",
    "function",
    "builtin_function_or_method",
    "instance",
    "_Feature"
   ],
   "window_display": false
  }
 },
 "nbformat": 4,
 "nbformat_minor": 2
}
